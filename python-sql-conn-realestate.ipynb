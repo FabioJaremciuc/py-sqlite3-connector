{
 "cells": [
  {
   "cell_type": "code",
   "execution_count": 1,
   "metadata": {
    "collapsed": true
   },
   "outputs": [],
   "source": [
    "import pandas as pd\n",
    "import numpy as np\n",
    "import csv\n",
    "import sqlite3"
   ]
  },
  {
   "cell_type": "markdown",
   "metadata": {},
   "source": [
    "# Creating the database using Python and SQLite 3"
   ]
  },
  {
   "cell_type": "code",
   "execution_count": 17,
   "metadata": {},
   "outputs": [
    {
     "name": "stdout",
     "output_type": "stream",
     "text": [
      "database created successfully!\n"
     ]
    }
   ],
   "source": [
    "db = sqlite3.connect('database.db') # connects to the database\n",
    "print(\"database created successfully!\")"
   ]
  },
  {
   "cell_type": "code",
   "execution_count": 3,
   "metadata": {
    "collapsed": true
   },
   "outputs": [],
   "source": [
    "def create_table():\n",
    "    ''' Create the Casafari table '''\n",
    "    c = db.cursor()\n",
    "    c.execute(\"CREATE TABLE Casafari (id,title,features,living_area,total_area,plot_area,price);\")\n",
    "    print(\"Table created successfully\")"
   ]
  },
  {
   "cell_type": "code",
   "execution_count": 4,
   "metadata": {
    "collapsed": true
   },
   "outputs": [],
   "source": [
    "def data_entry():\n",
    "    ''' Inserts the data into the database '''\n",
    "    with open('/home/jaremciuc/data_analysis_test/assignment_data.csv') as fin: # it is necessary to change the file path\n",
    "        c = db.cursor()\n",
    "        dr = csv.DictReader(fin)\n",
    "        to_db = [(i['id'], i['title'], i['features'], i['living_area'], i['total_area'], i['plot_area'], i['price']) for i in dr]\n",
    "        c.executemany(\"INSERT INTO Casafari (id,title,features,living_area,total_area,plot_area,price) VALUES (?, ?, ?, ?, ?, ?, ?);\", to_db)\n",
    "        db.commit()\n",
    "        c.close()\n",
    "        print('Data entered successfully')"
   ]
  },
  {
   "cell_type": "code",
   "execution_count": 5,
   "metadata": {},
   "outputs": [
    {
     "name": "stdout",
     "output_type": "stream",
     "text": [
      "Table created successfully\n"
     ]
    }
   ],
   "source": [
    "create_table()"
   ]
  },
  {
   "cell_type": "code",
   "execution_count": 8,
   "metadata": {},
   "outputs": [
    {
     "name": "stdout",
     "output_type": "stream",
     "text": [
      "Data entered successfully\n"
     ]
    }
   ],
   "source": [
    "data_entry()"
   ]
  },
  {
   "cell_type": "markdown",
   "metadata": {},
   "source": [
    "### Show the first rows"
   ]
  },
  {
   "cell_type": "code",
   "execution_count": 9,
   "metadata": {},
   "outputs": [
    {
     "data": {
      "text/html": [
       "<div>\n",
       "<style scoped>\n",
       "    .dataframe tbody tr th:only-of-type {\n",
       "        vertical-align: middle;\n",
       "    }\n",
       "\n",
       "    .dataframe tbody tr th {\n",
       "        vertical-align: top;\n",
       "    }\n",
       "\n",
       "    .dataframe thead th {\n",
       "        text-align: right;\n",
       "    }\n",
       "</style>\n",
       "<table border=\"1\" class=\"dataframe\">\n",
       "  <thead>\n",
       "    <tr style=\"text-align: right;\">\n",
       "      <th></th>\n",
       "      <th>id</th>\n",
       "      <th>title</th>\n",
       "      <th>features</th>\n",
       "      <th>living_area</th>\n",
       "      <th>total_area</th>\n",
       "      <th>plot_area</th>\n",
       "      <th>price</th>\n",
       "    </tr>\n",
       "  </thead>\n",
       "  <tbody>\n",
       "    <tr>\n",
       "      <th>0</th>\n",
       "      <td>44525</td>\n",
       "      <td>Stunning 6 bedroom villa in the heart of the G...</td>\n",
       "      <td></td>\n",
       "      <td></td>\n",
       "      <td>918.0</td>\n",
       "      <td></td>\n",
       "      <td>4400000</td>\n",
       "    </tr>\n",
       "    <tr>\n",
       "      <th>1</th>\n",
       "      <td>44859</td>\n",
       "      <td>Villa for sale in Rocio de Nagüeles, Marbella ...</td>\n",
       "      <td></td>\n",
       "      <td></td>\n",
       "      <td></td>\n",
       "      <td></td>\n",
       "      <td>2400000</td>\n",
       "    </tr>\n",
       "    <tr>\n",
       "      <th>2</th>\n",
       "      <td>45465</td>\n",
       "      <td>One level 5 bedroom villa for sale in Nagüeles</td>\n",
       "      <td></td>\n",
       "      <td></td>\n",
       "      <td>393.0</td>\n",
       "      <td></td>\n",
       "      <td>1900000</td>\n",
       "    </tr>\n",
       "    <tr>\n",
       "      <th>3</th>\n",
       "      <td>50685</td>\n",
       "      <td>Large estate for sale in Rocio de Nagueles</td>\n",
       "      <td></td>\n",
       "      <td>0.0</td>\n",
       "      <td>640.0</td>\n",
       "      <td>0.0</td>\n",
       "      <td>4250000</td>\n",
       "    </tr>\n",
       "    <tr>\n",
       "      <th>4</th>\n",
       "      <td>130728</td>\n",
       "      <td>Palatial Villa on Marbellas Golden Mile with ...</td>\n",
       "      <td>Fireplace, Elevator, Terrace, Mountain view, F...</td>\n",
       "      <td>0.0</td>\n",
       "      <td>4903.0</td>\n",
       "      <td>11000.0</td>\n",
       "      <td>32000000</td>\n",
       "    </tr>\n",
       "    <tr>\n",
       "      <th>5</th>\n",
       "      <td>130856</td>\n",
       "      <td>Large plot with fantastic views in Nagüeles</td>\n",
       "      <td>Mountain view</td>\n",
       "      <td>0.0</td>\n",
       "      <td>0.0</td>\n",
       "      <td>5528.0</td>\n",
       "      <td>2900000</td>\n",
       "    </tr>\n",
       "    <tr>\n",
       "      <th>6</th>\n",
       "      <td>130857</td>\n",
       "      <td>Modern Design Penthouse on second line beach G...</td>\n",
       "      <td>Elevator, Terrace, Alarm system, Mountain view...</td>\n",
       "      <td>220.0</td>\n",
       "      <td>530.0</td>\n",
       "      <td>0.0</td>\n",
       "      <td>3900000</td>\n",
       "    </tr>\n",
       "    <tr>\n",
       "      <th>7</th>\n",
       "      <td>130897</td>\n",
       "      <td>Spacious Beachside Villa Casablanca Marbella G...</td>\n",
       "      <td>Fireplace, Elevator, Terrace, Alarm system, Sw...</td>\n",
       "      <td>411.0</td>\n",
       "      <td>450.0</td>\n",
       "      <td>600.0</td>\n",
       "      <td>3148000</td>\n",
       "    </tr>\n",
       "    <tr>\n",
       "      <th>8</th>\n",
       "      <td>130917</td>\n",
       "      <td>Modern Designer Villa with Stunning Views Gold...</td>\n",
       "      <td>Fireplace, Terrace, Alarm system, Mountain vie...</td>\n",
       "      <td>470.0</td>\n",
       "      <td>845.0</td>\n",
       "      <td>1000.0</td>\n",
       "      <td>2950000</td>\n",
       "    </tr>\n",
       "    <tr>\n",
       "      <th>9</th>\n",
       "      <td>130978</td>\n",
       "      <td>Beautiful Villa at the top of Nagüeles with pa...</td>\n",
       "      <td>Security system, Fireplace, Terrace, Jacuzzi, ...</td>\n",
       "      <td>619.0</td>\n",
       "      <td>738.0</td>\n",
       "      <td>1391.0</td>\n",
       "      <td>2400000</td>\n",
       "    </tr>\n",
       "  </tbody>\n",
       "</table>\n",
       "</div>"
      ],
      "text/plain": [
       "       id                                              title  \\\n",
       "0   44525  Stunning 6 bedroom villa in the heart of the G...   \n",
       "1   44859  Villa for sale in Rocio de Nagüeles, Marbella ...   \n",
       "2   45465     One level 5 bedroom villa for sale in Nagüeles   \n",
       "3   50685         Large estate for sale in Rocio de Nagueles   \n",
       "4  130728  Palatial Villa on Marbellas Golden Mile with ...   \n",
       "5  130856        Large plot with fantastic views in Nagüeles   \n",
       "6  130857  Modern Design Penthouse on second line beach G...   \n",
       "7  130897  Spacious Beachside Villa Casablanca Marbella G...   \n",
       "8  130917  Modern Designer Villa with Stunning Views Gold...   \n",
       "9  130978  Beautiful Villa at the top of Nagüeles with pa...   \n",
       "\n",
       "                                            features living_area total_area  \\\n",
       "0                                                                     918.0   \n",
       "1                                                                             \n",
       "2                                                                     393.0   \n",
       "3                                                            0.0      640.0   \n",
       "4  Fireplace, Elevator, Terrace, Mountain view, F...         0.0     4903.0   \n",
       "5                                      Mountain view         0.0        0.0   \n",
       "6  Elevator, Terrace, Alarm system, Mountain view...       220.0      530.0   \n",
       "7  Fireplace, Elevator, Terrace, Alarm system, Sw...       411.0      450.0   \n",
       "8  Fireplace, Terrace, Alarm system, Mountain vie...       470.0      845.0   \n",
       "9  Security system, Fireplace, Terrace, Jacuzzi, ...       619.0      738.0   \n",
       "\n",
       "  plot_area     price  \n",
       "0             4400000  \n",
       "1             2400000  \n",
       "2             1900000  \n",
       "3       0.0   4250000  \n",
       "4   11000.0  32000000  \n",
       "5    5528.0   2900000  \n",
       "6       0.0   3900000  \n",
       "7     600.0   3148000  \n",
       "8    1000.0   2950000  \n",
       "9    1391.0   2400000  "
      ]
     },
     "execution_count": 9,
     "metadata": {},
     "output_type": "execute_result"
    }
   ],
   "source": [
    "df = pd.read_sql_query(\"SELECT * FROM Casafari;\", db)\n",
    "df.head(10)"
   ]
  },
  {
   "cell_type": "markdown",
   "metadata": {},
   "source": [
    "# SQL Tasks"
   ]
  },
  {
   "cell_type": "markdown",
   "metadata": {},
   "source": [
    "### Write a query to extract only listings with a property type “quinta” or “house”"
   ]
  },
  {
   "cell_type": "code",
   "execution_count": 14,
   "metadata": {},
   "outputs": [
    {
     "data": {
      "text/plain": [
       "(3804, 7)"
      ]
     },
     "execution_count": 14,
     "metadata": {},
     "output_type": "execute_result"
    }
   ],
   "source": [
    "df = pd.read_sql_query(\"SELECT * FROM Casafari WHERE title LIKE '%Quinta%' OR features LIKE '%Quinta%' OR title LIKE 'house%' OR features LIKE 'house%';\", db)\n",
    "df.shape"
   ]
  },
  {
   "cell_type": "markdown",
   "metadata": {},
   "source": [
    "### Write a query to extract only listings of properties with a swimming pool"
   ]
  },
  {
   "cell_type": "code",
   "execution_count": 15,
   "metadata": {},
   "outputs": [
    {
     "data": {
      "text/plain": [
       "(1269, 7)"
      ]
     },
     "execution_count": 15,
     "metadata": {},
     "output_type": "execute_result"
    }
   ],
   "source": [
    "df = pd.read_sql_query(\"SELECT * FROM Casafari WHERE features LIKE '% pool %' OR title LIKE '% pool %';\", db)\n",
    "df.shape"
   ]
  },
  {
   "cell_type": "markdown",
   "metadata": {},
   "source": [
    "### Write a query to extract listings where a property type is not “plot”"
   ]
  },
  {
   "cell_type": "code",
   "execution_count": 16,
   "metadata": {},
   "outputs": [
    {
     "data": {
      "text/plain": [
       "(12660, 7)"
      ]
     },
     "execution_count": 16,
     "metadata": {},
     "output_type": "execute_result"
    }
   ],
   "source": [
    "df = pd.read_sql_query(\"SELECT * FROM Casafari WHERE plot_area = '0.0' AND living_area > '0.0' OR total_area > '0.0';\", db)\n",
    "df.shape"
   ]
  },
  {
   "cell_type": "markdown",
   "metadata": {},
   "source": [
    "### Write a query calculating the average price per square meter of all apartments in Nagüeles"
   ]
  },
  {
   "cell_type": "code",
   "execution_count": 73,
   "metadata": {},
   "outputs": [
    {
     "data": {
      "text/html": [
       "<div>\n",
       "<style>\n",
       "    .dataframe thead tr:only-child th {\n",
       "        text-align: right;\n",
       "    }\n",
       "\n",
       "    .dataframe thead th {\n",
       "        text-align: left;\n",
       "    }\n",
       "\n",
       "    .dataframe tbody tr th {\n",
       "        vertical-align: top;\n",
       "    }\n",
       "</style>\n",
       "<table border=\"1\" class=\"dataframe\">\n",
       "  <thead>\n",
       "    <tr style=\"text-align: right;\">\n",
       "      <th></th>\n",
       "      <th>sum(price)/sum(total_area)</th>\n",
       "    </tr>\n",
       "  </thead>\n",
       "  <tbody>\n",
       "    <tr>\n",
       "      <th>0</th>\n",
       "      <td>3862.182749</td>\n",
       "    </tr>\n",
       "  </tbody>\n",
       "</table>\n",
       "</div>"
      ],
      "text/plain": [
       "   sum(price)/sum(total_area)\n",
       "0                 3862.182749"
      ]
     },
     "execution_count": 73,
     "metadata": {},
     "output_type": "execute_result"
    }
   ],
   "source": [
    "df = pd.read_sql_query(\"SELECT sum(price)/sum(total_area) FROM Casafari WHERE title LIKE '%Nagüeles%' OR features LIKE '%Nagüeles%';\", db)\n",
    "df"
   ]
  }
 ],
 "metadata": {
  "kernelspec": {
   "display_name": "Python 3",
   "language": "python",
   "name": "python3"
  },
  "language_info": {
   "codemirror_mode": {
    "name": "ipython",
    "version": 3
   },
   "file_extension": ".py",
   "mimetype": "text/x-python",
   "name": "python",
   "nbconvert_exporter": "python",
   "pygments_lexer": "ipython3",
   "version": "3.6.3"
  }
 },
 "nbformat": 4,
 "nbformat_minor": 2
}
